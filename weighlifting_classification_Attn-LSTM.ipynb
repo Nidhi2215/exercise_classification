{
 "cells": [
  {
   "cell_type": "code",
   "execution_count": 8,
   "id": "474fa788",
   "metadata": {},
   "outputs": [],
   "source": [
    "import cv2\n",
    "import numpy as np\n",
    "import os\n",
    "from matplotlib import pyplot as plt\n",
    "import time\n",
    "\n",
    "import math\n",
    "\n",
    "from sklearn.model_selection import train_test_split\n",
    "from sklearn.metrics import multilabel_confusion_matrix, accuracy_score, classification_report\n",
    "\n",
    "from scipy import stats"
   ]
  },
  {
   "cell_type": "code",
   "execution_count": 9,
   "id": "63e81cea",
   "metadata": {},
   "outputs": [],
   "source": [
    "import mediapipe as mp \n",
    "import tensorflow as tf \n",
    "from tensorflow.keras.utils import to_categorical \n",
    "from tensorflow.keras import backend as K \n",
    "from tensorflow.keras.callbacks import TensorBoard, EarlyStopping, ReduceLROnPlateau, ModelCheckpoint\n",
    "\n",
    "from tensorflow.keras.models import Sequential, Model\n",
    "\n",
    "from tensorflow.keras.layers import (LSTM, Dense, Concatenate, Attention, Dropout, Softmax,\n",
    "                                     Input, Flatten, Activation, Bidirectional, Permute, multiply, \n",
    "                                     ConvLSTM2D, MaxPooling3D, TimeDistributed, Conv2D, MaxPooling2D)\n",
    "# disable some of the tf/keras training warnings \n",
    "os.environ['TF_CPP_MIN_LOG_LEVEL'] = \"3\"\n",
    "tf.get_logger().setLevel(\"ERROR\")\n",
    "tf.autograph.set_verbosity(1)\n",
    "\n",
    "# suppress untraced functions warning\n",
    "import absl.logging\n",
    "absl.logging.set_verbosity(absl.logging.ERROR)"
   ]
  },
  {
   "cell_type": "code",
   "execution_count": 10,
   "id": "ed71bd97",
   "metadata": {},
   "outputs": [],
   "source": [
    "# Pre-trained pose estimation model from Google Mediapipe\n",
    "mp_pose = mp.solutions.pose\n",
    "\n",
    "# Supported Mediapipe visualization tools\n",
    "mp_drawing = mp.solutions.drawing_utils"
   ]
  },
  {
   "cell_type": "code",
   "execution_count": 11,
   "id": "d29937e3",
   "metadata": {},
   "outputs": [],
   "source": [
    "def mediapipe_detection(image, model):\n",
    "    \"\"\"\n",
    "    This function detects human pose estimation keypoints from webcam footage\n",
    "    \n",
    "    \"\"\"\n",
    "    image = cv2.cvtColor(image, cv2.COLOR_BGR2RGB) # COLOR CONVERSION BGR 2 RGB. When the image file is read with the OpenCV function imread() , the order of colors is BGR (blue, green, red). On the other hand, in Pillow, the order of colors is assumed to be RGB (red, green, blue). Therefore, if you want to use both the Pillow function and the OpenCV function, you need to convert BGR and RGB.\n",
    "    image.flags.writeable = False                  # Image is no longer writeable\n",
    "    results = model.process(image)                 # Make prediction i.e draw the keypoints in the frame.\n",
    "    image.flags.writeable = True                   # Image is now writeable \n",
    "    image = cv2.cvtColor(image, cv2.COLOR_RGB2BGR) # COLOR COVERSION RGB 2 BGR\n",
    "    return image, results"
   ]
  },
  {
   "cell_type": "code",
   "execution_count": 12,
   "id": "b87ced3e",
   "metadata": {},
   "outputs": [],
   "source": [
    "def draw_landmarks(image, results):\n",
    "    \"\"\"\n",
    "    This function draws keypoints and landmarks detected by the human pose estimation model\n",
    "    \n",
    "    \"\"\"\n",
    "    mp_drawing.draw_landmarks(image, results.pose_landmarks, mp_pose.POSE_CONNECTIONS,\n",
    "                                mp_drawing.DrawingSpec(color=(245,117,66), thickness=2, circle_radius=2), \n",
    "                                mp_drawing.DrawingSpec(color=(245,66,230), thickness=2, circle_radius=2) \n",
    "                                 )"
   ]
  },
  {
   "cell_type": "markdown",
   "id": "05df6291",
   "metadata": {},
   "source": [
    "how we can read from a video or a webcam by creating a VideoCapture() object.\n",
    "VideoCapture object can be used to grab frames and show them on the screen.\n",
    "Here, \"cap\" indicates the VideoCapture() object"
   ]
  },
  {
   "cell_type": "code",
   "execution_count": 13,
   "id": "1ff4b084",
   "metadata": {},
   "outputs": [],
   "source": [
    "cap = cv2.VideoCapture(0) # to get a camera object   , frames are being created however.\n",
    "HEIGHT = int(cap.get(cv2.CAP_PROP_FRAME_HEIGHT)) # webcam video frame height , CAP_PROP_FRAME_HEIGHT: height of the video frame.\n",
    "WIDTH = int(cap.get(cv2.CAP_PROP_FRAME_WIDTH)) # webcam video frame width , CAP_PROP_FRAME_WIDTH: width of the video frame.\n",
    "FPS = int(cap.get(cv2.CAP_PROP_FPS)) # webcam video fram rate.\n",
    "\n",
    "\n",
    "# Set and test mediapipe model using webcam\n",
    "with mp_pose.Pose(min_detection_confidence=0.5, min_tracking_confidence=0.5) as pose:   #with statement helps avoiding bugs and leaks by ensuring that a resource is properly released when the code using the resource is completely executed.\n",
    "    while cap.isOpened():   # cap.isOpened : It returns True or False based on whether or not our cap object has started capturing the frames.\n",
    "\n",
    "        # Read feed\n",
    "        ret, frame = cap.read()\n",
    "      \n",
    "        # Make detection\n",
    "        image, results = mediapipe_detection(frame, pose)\n",
    "        \n",
    "        # Extract landmarks\n",
    "        try:\n",
    "            landmarks = results.pose_landmarks.landmark\n",
    "        except:\n",
    "            pass\n",
    "        \n",
    "        # Render detections\n",
    "        draw_landmarks(image, results)               \n",
    "        \n",
    "        # Display frame on screen\n",
    "        cv2.imshow('OpenCV Feed', image)\n",
    "        \n",
    "        # Exit / break out logic\n",
    "        if cv2.waitKey(10) & 0xFF == ord('q'):\n",
    "            break\n",
    "\n",
    "    cap.release()\n",
    "    cv2.destroyAllWindows()"
   ]
  },
  {
   "cell_type": "code",
   "execution_count": 14,
   "id": "df986fe2",
   "metadata": {},
   "outputs": [],
   "source": [
    "# Recollect and organize keypoints from the test.\n",
    "pose = []\n",
    "for res in results.pose_landmarks.landmark:\n",
    "    test = np.array([res.x, res.y, res.z, res.visibility])\n",
    "    pose.append(test)"
   ]
  },
  {
   "cell_type": "code",
   "execution_count": 15,
   "id": "e36117d0",
   "metadata": {},
   "outputs": [
    {
     "data": {
      "text/plain": [
       "[array([ 0.40026227,  0.08201142, -0.79972947,  0.996328  ]),\n",
       " array([ 0.42490894,  0.08016785, -0.85845411,  0.99463648]),\n",
       " array([ 0.42713442,  0.08269789, -0.85789824,  0.99506927]),\n",
       " array([ 0.42177311,  0.10093156, -0.85745156,  0.99474782]),\n",
       " array([ 0.42293438,  0.09509487, -0.89066923,  0.99543715]),\n",
       " array([ 0.41951489,  0.09668139, -0.89012194,  0.99547958]),\n",
       " array([ 0.40085173,  0.10183346, -0.8894909 ,  0.99516493]),\n",
       " array([ 0.45862564,  0.06295766, -0.8662737 ,  0.99180287]),\n",
       " array([ 0.40327072,  0.07003652, -1.00439918,  0.99415982]),\n",
       " array([ 0.40094185,  0.04615995, -0.75455004,  0.99469543]),\n",
       " array([ 0.38573205,  0.04912756, -0.79747766,  0.99408525]),\n",
       " array([ 0.49681205, -0.04116358, -0.7308228 ,  0.9370383 ]),\n",
       " array([ 0.37504405, -0.08030824, -0.82241029,  0.95594102]),\n",
       " array([ 0.41610017,  0.2206409 , -0.66514933,  0.85231984]),\n",
       " array([ 0.20213351,  0.1738264 , -0.79932386,  0.90701795]),\n",
       " array([ 0.36958322,  0.62352908, -0.88365877,  0.93206775]),\n",
       " array([ 0.31008637,  0.6347633 , -0.96801174,  0.96060055]),\n",
       " array([ 0.39744395,  0.73848784, -1.02357674,  0.92370439]),\n",
       " array([ 0.32169211,  0.75188768, -1.12069201,  0.95022738]),\n",
       " array([ 0.38169569,  0.77075171, -1.06092858,  0.93169242]),\n",
       " array([ 0.35280424,  0.77051389, -1.17101562,  0.95362085]),\n",
       " array([ 0.38379022,  0.73293871, -0.91552031,  0.91844112]),\n",
       " array([ 0.35202813,  0.71436447, -1.00315762,  0.94318771]),\n",
       " array([ 0.45309743, -0.69785935, -0.07959944,  0.29176489]),\n",
       " array([ 0.36707759, -0.71929324,  0.08058465,  0.29838219]),\n",
       " array([ 0.44792789, -0.21842612,  0.39247546,  0.23335335]),\n",
       " array([ 0.35232493, -0.19582906,  0.55399847,  0.18715139]),\n",
       " array([ 0.43296355, -0.19373052,  1.43735147,  0.12260263]),\n",
       " array([ 0.32000807, -0.17578933,  1.41507149,  0.11896903]),\n",
       " array([ 0.44138074, -0.213449  ,  1.53079939,  0.10186821]),\n",
       " array([ 0.32449365, -0.18343082,  1.50127387,  0.09808705]),\n",
       " array([ 0.4069584 , -0.11406744,  1.38246083,  0.17797695]),\n",
       " array([ 0.30710226, -0.09139849,  1.37988842,  0.16084695])]"
      ]
     },
     "execution_count": 15,
     "metadata": {},
     "output_type": "execute_result"
    }
   ],
   "source": [
    "pose"
   ]
  },
  {
   "cell_type": "code",
   "execution_count": 16,
   "id": "a654c33a",
   "metadata": {},
   "outputs": [],
   "source": [
    "# 33 landmarks with 4 values (x, y, z, visibility)\n",
    "num_landmarks = len(landmarks)\n",
    "num_values = len(test)\n",
    "num_input_values = num_landmarks*num_values"
   ]
  },
  {
   "cell_type": "code",
   "execution_count": 17,
   "id": "2b8ebe20",
   "metadata": {},
   "outputs": [
    {
     "data": {
      "text/plain": [
       "33"
      ]
     },
     "execution_count": 17,
     "metadata": {},
     "output_type": "execute_result"
    }
   ],
   "source": [
    "num_landmarks"
   ]
  },
  {
   "cell_type": "code",
   "execution_count": 18,
   "id": "e68a826d",
   "metadata": {},
   "outputs": [
    {
     "data": {
      "text/plain": [
       "4"
      ]
     },
     "execution_count": 18,
     "metadata": {},
     "output_type": "execute_result"
    }
   ],
   "source": [
    "num_values"
   ]
  },
  {
   "cell_type": "code",
   "execution_count": 19,
   "id": "9eb0f9a1",
   "metadata": {},
   "outputs": [
    {
     "data": {
      "text/plain": [
       "132"
      ]
     },
     "execution_count": 19,
     "metadata": {},
     "output_type": "execute_result"
    }
   ],
   "source": [
    "num_input_values"
   ]
  },
  {
   "cell_type": "code",
   "execution_count": 20,
   "id": "645bbaf7",
   "metadata": {},
   "outputs": [],
   "source": [
    "# This is an example of what we would use as an input into our AI models. \n",
    "pose = np.array([[res.x, res.y, res.z, res.visibility] for res in results.pose_landmarks.landmark]).flatten() if results.pose_landmarks else np.zeros(33*4)"
   ]
  },
  {
   "cell_type": "markdown",
   "id": "bafad395",
   "metadata": {},
   "source": [
    "Flattening a list of lists is a process of transforming a two-Dimensional list \n",
    "into a One-Dimensional list by un-nesting every list element kept in the list \n",
    "of lists, that is, transforming [[9, 8, 7], [6, 5, 4], [3, 2, 1]] to [9, 8, 7, 6, 5, 4, 3, 2, 1]."
   ]
  },
  {
   "cell_type": "code",
   "execution_count": 21,
   "id": "bbeaeae8",
   "metadata": {},
   "outputs": [
    {
     "data": {
      "text/plain": [
       "array([ 0.40026227,  0.08201142, -0.79972947,  0.996328  ,  0.42490894,\n",
       "        0.08016785, -0.85845411,  0.99463648,  0.42713442,  0.08269789,\n",
       "       -0.85789824,  0.99506927,  0.42177311,  0.10093156, -0.85745156,\n",
       "        0.99474782,  0.42293438,  0.09509487, -0.89066923,  0.99543715,\n",
       "        0.41951489,  0.09668139, -0.89012194,  0.99547958,  0.40085173,\n",
       "        0.10183346, -0.8894909 ,  0.99516493,  0.45862564,  0.06295766,\n",
       "       -0.8662737 ,  0.99180287,  0.40327072,  0.07003652, -1.00439918,\n",
       "        0.99415982,  0.40094185,  0.04615995, -0.75455004,  0.99469543,\n",
       "        0.38573205,  0.04912756, -0.79747766,  0.99408525,  0.49681205,\n",
       "       -0.04116358, -0.7308228 ,  0.9370383 ,  0.37504405, -0.08030824,\n",
       "       -0.82241029,  0.95594102,  0.41610017,  0.2206409 , -0.66514933,\n",
       "        0.85231984,  0.20213351,  0.1738264 , -0.79932386,  0.90701795,\n",
       "        0.36958322,  0.62352908, -0.88365877,  0.93206775,  0.31008637,\n",
       "        0.6347633 , -0.96801174,  0.96060055,  0.39744395,  0.73848784,\n",
       "       -1.02357674,  0.92370439,  0.32169211,  0.75188768, -1.12069201,\n",
       "        0.95022738,  0.38169569,  0.77075171, -1.06092858,  0.93169242,\n",
       "        0.35280424,  0.77051389, -1.17101562,  0.95362085,  0.38379022,\n",
       "        0.73293871, -0.91552031,  0.91844112,  0.35202813,  0.71436447,\n",
       "       -1.00315762,  0.94318771,  0.45309743, -0.69785935, -0.07959944,\n",
       "        0.29176489,  0.36707759, -0.71929324,  0.08058465,  0.29838219,\n",
       "        0.44792789, -0.21842612,  0.39247546,  0.23335335,  0.35232493,\n",
       "       -0.19582906,  0.55399847,  0.18715139,  0.43296355, -0.19373052,\n",
       "        1.43735147,  0.12260263,  0.32000807, -0.17578933,  1.41507149,\n",
       "        0.11896903,  0.44138074, -0.213449  ,  1.53079939,  0.10186821,\n",
       "        0.32449365, -0.18343082,  1.50127387,  0.09808705,  0.4069584 ,\n",
       "       -0.11406744,  1.38246083,  0.17797695,  0.30710226, -0.09139849,\n",
       "        1.37988842,  0.16084695])"
      ]
     },
     "execution_count": 21,
     "metadata": {},
     "output_type": "execute_result"
    }
   ],
   "source": [
    "pose"
   ]
  },
  {
   "cell_type": "code",
   "execution_count": 22,
   "id": "f3d007c2",
   "metadata": {},
   "outputs": [],
   "source": [
    "def extract_keypoints(results):  #exercise decoder model tells the exercise i.e used for the estimation of type of exercises.\n",
    "    #pose estimation model is for detecting and drawing the keypoints over the body frame which is our region of interest.\n",
    "    \"\"\"                           \n",
    "    Processes and organizes the keypoints detected from the pose estimation model \n",
    "    to be used as inputs for the exercise decoder models\n",
    "    \"\"\"\n",
    "    pose = np.array([[res.x, res.y, res.z, res.visibility] for res in results.pose_landmarks.landmark]).flatten() if results.pose_landmarks else np.zeros(33*4)\n",
    "    return pose"
   ]
  },
  {
   "cell_type": "code",
   "execution_count": 23,
   "id": "a3a9b2c7",
   "metadata": {},
   "outputs": [
    {
     "data": {
      "text/plain": [
       "30"
      ]
     },
     "execution_count": 23,
     "metadata": {},
     "output_type": "execute_result"
    }
   ],
   "source": [
    "FPS"
   ]
  },
  {
   "cell_type": "code",
   "execution_count": 24,
   "id": "9476d8fd",
   "metadata": {},
   "outputs": [
    {
     "name": "stdout",
     "output_type": "stream",
     "text": [
      "C:\\Users\\tomar\\data\n"
     ]
    }
   ],
   "source": [
    "# Path for exported data, numpy arrays\n",
    "DATA_PATH = os.path.join(os. getcwd(),'data') \n",
    "print(DATA_PATH)\n",
    "\n",
    "# make directory if it does not exist yet\n",
    "if not os.path.exists(DATA_PATH):\n",
    "    os.makedirs(DATA_PATH)\n",
    "\n",
    "# Actions/exercises that we try to detect\n",
    "actions = np.array(['curl', 'press', 'squat'])\n",
    "num_classes = len(actions)\n",
    "\n",
    "# How many videos worth of data\n",
    "no_sequences = 50\n",
    "\n",
    "# Videos are goi ng to be this many frames in length\n",
    "sequence_length = FPS*1\n",
    "\n",
    "# Folder start\n",
    "# Change this to collect more data and not lose previously collected data\n",
    "start_folder = 101"
   ]
  },
  {
   "cell_type": "code",
   "execution_count": 25,
   "id": "9f3cf211",
   "metadata": {},
   "outputs": [],
   "source": [
    "# Build folder paths\n",
    "for action in actions:     \n",
    "    for sequence in range(start_folder,no_sequences+start_folder):\n",
    "        try: \n",
    "            os.makedirs(os.path.join(DATA_PATH, action, str(sequence)))  \n",
    "        except:\n",
    "            pass"
   ]
  },
  {
   "cell_type": "code",
   "execution_count": 26,
   "id": "0e079a1c",
   "metadata": {},
   "outputs": [],
   "source": [
    "# Colors associated with each exercise (e.g., curls are denoted by blue, squats are denoted by orange, etc.)\n",
    "colors = [(245,117,16), (117,245,16), (16,117,245)]"
   ]
  },
  {
   "cell_type": "code",
   "execution_count": 27,
   "id": "bcbd0c1e",
   "metadata": {},
   "outputs": [],
   "source": [
    "# Collect Training Data\n",
    "\n",
    "cap = cv2.VideoCapture(0)\n",
    "# Set mediapipe model \n",
    "with mp_pose.Pose(min_detection_confidence=0.5, min_tracking_confidence=0.5) as pose:\n",
    "    # Loop through actions\n",
    "    for idx, action in enumerate(actions):\n",
    "        # Loop through sequences (i.e., videos)\n",
    "        for sequence in range(start_folder, start_folder+no_sequences):\n",
    "            # Loop through video length (i.e, sequence length)\n",
    "            for frame_num in range(sequence_length):\n",
    "                # Read feed\n",
    "                ret, frame = cap.read()\n",
    "                \n",
    "                # Make detection\n",
    "                image, results = mediapipe_detection(frame, pose)\n",
    "\n",
    "                # Extract landmarks\n",
    "                try:\n",
    "                    landmarks = results.pose_landmarks.landmark\n",
    "                except:\n",
    "                    pass\n",
    "                \n",
    "                # Render detections\n",
    "                draw_landmarks(image, results) \n",
    "\n",
    "                # Apply visualization logic\n",
    "                if frame_num == 0: # If first frame in sequence, print that you're starting a new data collection and wait 500 ms\n",
    "                    cv2.putText(image, 'STARTING COLLECTION', (120,200), \n",
    "                            cv2.FONT_HERSHEY_SIMPLEX, 1, (0,255, 0), 4, cv2.LINE_AA)\n",
    "                    \n",
    "                    cv2.putText(image, 'Collecting {} Video # {}'.format(action, sequence), (15,30), \n",
    "                            cv2.FONT_HERSHEY_SIMPLEX, 1, (255, 255, 255), 8, cv2.LINE_AA)\n",
    "                    cv2.putText(image, 'Collecting {} Video # {}'.format(action, sequence), (15,30), \n",
    "                            cv2.FONT_HERSHEY_SIMPLEX, 1, colors[idx], 4, cv2.LINE_AA)\n",
    "                    \n",
    "                    # Show to screen\n",
    "                    cv2.imshow('OpenCV Feed', image)\n",
    "                    cv2.waitKey(500)\n",
    "                else: \n",
    "                    cv2.putText(image, 'Collecting {} Video # {}'.format(action, sequence), (15,30), \n",
    "                            cv2.FONT_HERSHEY_SIMPLEX, 1, (255, 255, 255), 8, cv2.LINE_AA)\n",
    "                    cv2.putText(image, 'Collecting {} Video # {}'.format(action, sequence), (15,30), \n",
    "                            cv2.FONT_HERSHEY_SIMPLEX, 1, colors[idx], 4, cv2.LINE_AA)\n",
    "                    \n",
    "                    # Show to screen\n",
    "                    cv2.imshow('OpenCV Feed', image)\n",
    "\n",
    "                # Export keypoints (sequence + pose landmarks)\n",
    "                keypoints = extract_keypoints(results)\n",
    "                npy_path = os.path.join(DATA_PATH, action, str(sequence), str(frame_num))\n",
    "                np.save(npy_path, keypoints)\n",
    "\n",
    "                # Break gracefully\n",
    "                if cv2.waitKey(10) & 0xFF == ord('m'):\n",
    "                    break\n",
    "                    \n",
    "    cap.release()\n",
    "    cv2.destroyAllWindows()"
   ]
  },
  {
   "cell_type": "code",
   "execution_count": 28,
   "id": "52ffc6c9",
   "metadata": {},
   "outputs": [],
   "source": [
    "cap.release()\n",
    "cv2.destroyAllWindows()"
   ]
  },
  {
   "cell_type": "code",
   "execution_count": 29,
   "id": "e664767e",
   "metadata": {},
   "outputs": [],
   "source": [
    "label_map = {label:num for num, label in enumerate(actions)}"
   ]
  },
  {
   "cell_type": "code",
   "execution_count": 30,
   "id": "ad7e343a",
   "metadata": {},
   "outputs": [],
   "source": [
    "# Load and organize recorded training data\n",
    "sequences, labels = [], []\n",
    "for action in actions:\n",
    "    for sequence in np.array(os.listdir(os.path.join(DATA_PATH, action))).astype(int):\n",
    "        window = []\n",
    "        for frame_num in range(sequence_length):         \n",
    "            # LSTM input data\n",
    "            res = np.load(os.path.join(DATA_PATH, action, str(sequence), \"{}.npy\".format(frame_num)))\n",
    "            window.append(res)  \n",
    "            \n",
    "        sequences.append(window)\n",
    "        labels.append(label_map[action])"
   ]
  },
  {
   "cell_type": "code",
   "execution_count": 31,
   "id": "0257941e",
   "metadata": {},
   "outputs": [
    {
     "name": "stdout",
     "output_type": "stream",
     "text": [
      "(150, 30, 132) (150, 3)\n"
     ]
    }
   ],
   "source": [
    "# Make sure first dimensions of arrays match\n",
    "X = np.array(sequences)\n",
    "y = to_categorical(labels).astype(int)\n",
    "print(X.shape, y.shape)"
   ]
  },
  {
   "cell_type": "code",
   "execution_count": 32,
   "id": "20236938",
   "metadata": {},
   "outputs": [
    {
     "name": "stdout",
     "output_type": "stream",
     "text": [
      "(135, 30, 132) (135, 3)\n"
     ]
    }
   ],
   "source": [
    "# Split into training, validation, and testing datasets\n",
    "X_train, X_test, y_train, y_test = train_test_split(X, y, test_size=0.10, random_state=1)\n",
    "print(X_train.shape, y_train.shape)\n",
    "X_train, X_val, y_train, y_val = train_test_split(X_train, y_train, test_size=15/90, random_state=2)"
   ]
  },
  {
   "cell_type": "markdown",
   "id": "1aae4196",
   "metadata": {},
   "source": [
    "Too many epochs can lead to overfitting of the training dataset, \n",
    "whereas too few may result in an underfit model. Early stopping \n",
    "is a method that allows you to specify an arbitrary large number\n",
    "of training epochs and stop training once the model performance stops improving on a hold out validation dataset.\n",
    "\n"
   ]
  },
  {
   "cell_type": "code",
   "execution_count": 33,
   "id": "e27f8309",
   "metadata": {},
   "outputs": [],
   "source": [
    "# Callbacks to be used during neural network training \n",
    "es_callback = EarlyStopping(monitor='val_loss', min_delta=5e-4, patience=10, verbose=0, mode='min')  #to avoid overfitting of data we use EarlyStopping function.\n",
    "lr_callback = ReduceLROnPlateau(monitor='val_loss', factor=0.2, patience=5, min_lr=0.00001, verbose=0, mode='min')\n",
    "chkpt_callback = ModelCheckpoint(filepath=DATA_PATH, monitor='val_loss', verbose=0, save_best_only=True, \n",
    "                                 save_weights_only=False, mode='min', save_freq=1)\n",
    "\n",
    "# Optimizer\n",
    "opt = tf.keras.optimizers.Adam(learning_rate=0.01)\n",
    "\n",
    "# some hyperparamters\n",
    "batch_size = 32\n",
    "max_epochs = 500"
   ]
  },
  {
   "cell_type": "code",
   "execution_count": 34,
   "id": "fad93fbb",
   "metadata": {},
   "outputs": [],
   "source": [
    "# Set up Tensorboard logging and callbacks\n",
    "NAME = f\"ExerciseRecognition-LSTM-{int(time.time())}\"\n",
    "log_dir = os.path.join(os.getcwd(), 'logs', NAME,'')\n",
    "tb_callback = TensorBoard(log_dir=log_dir)\n",
    "\n",
    "callbacks = [tb_callback, es_callback, lr_callback, chkpt_callback]"
   ]
  },
  {
   "cell_type": "code",
   "execution_count": 35,
   "id": "16aedba4",
   "metadata": {},
   "outputs": [
    {
     "name": "stdout",
     "output_type": "stream",
     "text": [
      "Model: \"sequential\"\n",
      "_________________________________________________________________\n",
      " Layer (type)                Output Shape              Param #   \n",
      "=================================================================\n",
      " lstm (LSTM)                 (None, 30, 128)           133632    \n",
      "                                                                 \n",
      " lstm_1 (LSTM)               (None, 30, 256)           394240    \n",
      "                                                                 \n",
      " lstm_2 (LSTM)               (None, 128)               197120    \n",
      "                                                                 \n",
      " dense (Dense)               (None, 128)               16512     \n",
      "                                                                 \n",
      " dense_1 (Dense)             (None, 64)                8256      \n",
      "                                                                 \n",
      " dense_2 (Dense)             (None, 3)                 195       \n",
      "                                                                 \n",
      "=================================================================\n",
      "Total params: 749,955\n",
      "Trainable params: 749,955\n",
      "Non-trainable params: 0\n",
      "_________________________________________________________________\n",
      "None\n"
     ]
    }
   ],
   "source": [
    "lstm = Sequential()\n",
    "lstm.add(LSTM(128, return_sequences=True, activation='relu', input_shape=(sequence_length, num_input_values)))\n",
    "lstm.add(LSTM(256, return_sequences=True, activation='relu'))\n",
    "lstm.add(LSTM(128, return_sequences=False, activation='relu'))\n",
    "lstm.add(Dense(128, activation='relu'))\n",
    "lstm.add(Dense(64, activation='relu'))\n",
    "lstm.add(Dense(actions.shape[0], activation='softmax'))\n",
    "print(lstm.summary())"
   ]
  },
  {
   "cell_type": "code",
   "execution_count": 36,
   "id": "57f6554a",
   "metadata": {},
   "outputs": [
    {
     "name": "stdout",
     "output_type": "stream",
     "text": [
      "Epoch 1/500\n",
      "4/4 [==============================] - 7s 514ms/step - loss: 755541.8125 - categorical_accuracy: 0.3393 - val_loss: 45231.9336 - val_categorical_accuracy: 0.2174 - lr: 0.0100\n",
      "Epoch 2/500\n",
      "4/4 [==============================] - 1s 133ms/step - loss: 13306.4131 - categorical_accuracy: 0.3750 - val_loss: 563.6418 - val_categorical_accuracy: 0.2609 - lr: 0.0100\n",
      "Epoch 3/500\n",
      "4/4 [==============================] - 1s 189ms/step - loss: 530.9316 - categorical_accuracy: 0.3571 - val_loss: 503.1708 - val_categorical_accuracy: 0.3913 - lr: 0.0100\n",
      "Epoch 4/500\n",
      "4/4 [==============================] - 1s 175ms/step - loss: 497.5432 - categorical_accuracy: 0.3929 - val_loss: 159.4875 - val_categorical_accuracy: 0.2609 - lr: 0.0100\n",
      "Epoch 5/500\n",
      "4/4 [==============================] - 1s 195ms/step - loss: 235.0299 - categorical_accuracy: 0.3214 - val_loss: 2127.7522 - val_categorical_accuracy: 0.2174 - lr: 0.0100\n",
      "Epoch 6/500\n",
      "4/4 [==============================] - 1s 190ms/step - loss: 1146.9561 - categorical_accuracy: 0.3304 - val_loss: 371.0218 - val_categorical_accuracy: 0.4348 - lr: 0.0100\n",
      "Epoch 7/500\n",
      "4/4 [==============================] - 1s 179ms/step - loss: 2234.5081 - categorical_accuracy: 0.2857 - val_loss: 1963.7157 - val_categorical_accuracy: 0.4348 - lr: 0.0100\n",
      "Epoch 8/500\n",
      "4/4 [==============================] - 1s 199ms/step - loss: 2467.4875 - categorical_accuracy: 0.3393 - val_loss: 558.9419 - val_categorical_accuracy: 0.3478 - lr: 0.0100\n",
      "Epoch 9/500\n",
      "4/4 [==============================] - 1s 180ms/step - loss: 467.3796 - categorical_accuracy: 0.3661 - val_loss: 145.8922 - val_categorical_accuracy: 0.3913 - lr: 0.0100\n",
      "Epoch 10/500\n",
      "4/4 [==============================] - 1s 204ms/step - loss: 121.1501 - categorical_accuracy: 0.3393 - val_loss: 87.4973 - val_categorical_accuracy: 0.2174 - lr: 0.0100\n",
      "Epoch 11/500\n",
      "4/4 [==============================] - 1s 213ms/step - loss: 72.4111 - categorical_accuracy: 0.4375 - val_loss: 377.1911 - val_categorical_accuracy: 0.2609 - lr: 0.0100\n",
      "Epoch 12/500\n",
      "4/4 [==============================] - 1s 207ms/step - loss: 203.6573 - categorical_accuracy: 0.3839 - val_loss: 82.3241 - val_categorical_accuracy: 0.3478 - lr: 0.0100\n",
      "Epoch 13/500\n",
      "4/4 [==============================] - 1s 207ms/step - loss: 98.3266 - categorical_accuracy: 0.3304 - val_loss: 116.3926 - val_categorical_accuracy: 0.3913 - lr: 0.0100\n",
      "Epoch 14/500\n",
      "4/4 [==============================] - 1s 215ms/step - loss: 125.5199 - categorical_accuracy: 0.3661 - val_loss: 146.8370 - val_categorical_accuracy: 0.2609 - lr: 0.0100\n",
      "Epoch 15/500\n",
      "4/4 [==============================] - 1s 186ms/step - loss: 109.1128 - categorical_accuracy: 0.3214 - val_loss: 71.0565 - val_categorical_accuracy: 0.3913 - lr: 0.0100\n",
      "Epoch 16/500\n",
      "4/4 [==============================] - 1s 196ms/step - loss: 50.3687 - categorical_accuracy: 0.3214 - val_loss: 8.0610 - val_categorical_accuracy: 0.3913 - lr: 0.0100\n",
      "Epoch 17/500\n",
      "4/4 [==============================] - 1s 194ms/step - loss: 15.7625 - categorical_accuracy: 0.3482 - val_loss: 23.4831 - val_categorical_accuracy: 0.4348 - lr: 0.0100\n",
      "Epoch 18/500\n",
      "4/4 [==============================] - 1s 183ms/step - loss: 24.0078 - categorical_accuracy: 0.3214 - val_loss: 8.2348 - val_categorical_accuracy: 0.2609 - lr: 0.0100\n",
      "Epoch 19/500\n",
      "4/4 [==============================] - 1s 191ms/step - loss: 14.2931 - categorical_accuracy: 0.3304 - val_loss: 10.7736 - val_categorical_accuracy: 0.4348 - lr: 0.0100\n",
      "Epoch 20/500\n",
      "4/4 [==============================] - 1s 188ms/step - loss: 9.8934 - categorical_accuracy: 0.2857 - val_loss: 18.1943 - val_categorical_accuracy: 0.2609 - lr: 0.0100\n",
      "Epoch 21/500\n",
      "4/4 [==============================] - 1s 188ms/step - loss: 11.7496 - categorical_accuracy: 0.3393 - val_loss: 4.1334 - val_categorical_accuracy: 0.4348 - lr: 0.0100\n",
      "Epoch 22/500\n",
      "4/4 [==============================] - 1s 202ms/step - loss: 6.3814 - categorical_accuracy: 0.3214 - val_loss: 6.9040 - val_categorical_accuracy: 0.2609 - lr: 0.0100\n",
      "Epoch 23/500\n",
      "4/4 [==============================] - 1s 186ms/step - loss: 4.7200 - categorical_accuracy: 0.3393 - val_loss: 3.0318 - val_categorical_accuracy: 0.3913 - lr: 0.0100\n",
      "Epoch 24/500\n",
      "4/4 [==============================] - 1s 189ms/step - loss: 4.2981 - categorical_accuracy: 0.2768 - val_loss: 2.3630 - val_categorical_accuracy: 0.3913 - lr: 0.0100\n",
      "Epoch 25/500\n",
      "4/4 [==============================] - 1s 175ms/step - loss: 3.8461 - categorical_accuracy: 0.2500 - val_loss: 6.2553 - val_categorical_accuracy: 0.0435 - lr: 0.0100\n",
      "Epoch 26/500\n",
      "4/4 [==============================] - 1s 202ms/step - loss: 3.8362 - categorical_accuracy: 0.1786 - val_loss: 2.7822 - val_categorical_accuracy: 0.3913 - lr: 0.0100\n",
      "Epoch 27/500\n",
      "4/4 [==============================] - 1s 180ms/step - loss: 2.8990 - categorical_accuracy: 0.2500 - val_loss: 2.5015 - val_categorical_accuracy: 0.2174 - lr: 0.0100\n",
      "Epoch 28/500\n",
      "4/4 [==============================] - 1s 183ms/step - loss: 2.1167 - categorical_accuracy: 0.1071 - val_loss: 2.1777 - val_categorical_accuracy: 0.2609 - lr: 0.0100\n",
      "Epoch 29/500\n",
      "4/4 [==============================] - 1s 181ms/step - loss: 2.0196 - categorical_accuracy: 0.1607 - val_loss: 1.7543 - val_categorical_accuracy: 0.0870 - lr: 0.0100\n",
      "Epoch 30/500\n",
      "4/4 [==============================] - 1s 187ms/step - loss: 1.8655 - categorical_accuracy: 0.1250 - val_loss: 1.7251 - val_categorical_accuracy: 0.4348 - lr: 0.0100\n",
      "Epoch 31/500\n",
      "4/4 [==============================] - 1s 185ms/step - loss: 1.9302 - categorical_accuracy: 0.2232 - val_loss: 1.7777 - val_categorical_accuracy: 0.0435 - lr: 0.0100\n",
      "Epoch 32/500\n",
      "4/4 [==============================] - 1s 188ms/step - loss: 1.6871 - categorical_accuracy: 0.0804 - val_loss: 1.5901 - val_categorical_accuracy: 0.0870 - lr: 0.0100\n",
      "Epoch 33/500\n",
      "4/4 [==============================] - 1s 196ms/step - loss: 1.5415 - categorical_accuracy: 0.1161 - val_loss: 1.5354 - val_categorical_accuracy: 0.0435 - lr: 0.0100\n",
      "Epoch 34/500\n",
      "4/4 [==============================] - 1s 192ms/step - loss: 1.4993 - categorical_accuracy: 0.0804 - val_loss: 1.4263 - val_categorical_accuracy: 0.2609 - lr: 0.0100\n",
      "Epoch 35/500\n",
      "4/4 [==============================] - 1s 170ms/step - loss: 1.5264 - categorical_accuracy: 0.2500 - val_loss: 1.9104 - val_categorical_accuracy: 0.1739 - lr: 0.0100\n",
      "Epoch 36/500\n",
      "4/4 [==============================] - 1s 179ms/step - loss: 1.6806 - categorical_accuracy: 0.2321 - val_loss: 1.6288 - val_categorical_accuracy: 0.3478 - lr: 0.0100\n",
      "Epoch 37/500\n",
      "4/4 [==============================] - 1s 177ms/step - loss: 1.5438 - categorical_accuracy: 0.1518 - val_loss: 1.4590 - val_categorical_accuracy: 0.0870 - lr: 0.0100\n",
      "Epoch 38/500\n",
      "4/4 [==============================] - 1s 169ms/step - loss: 1.5532 - categorical_accuracy: 0.1250 - val_loss: 1.6458 - val_categorical_accuracy: 0.0870 - lr: 0.0100\n",
      "Epoch 39/500\n",
      "4/4 [==============================] - 1s 188ms/step - loss: 1.4718 - categorical_accuracy: 0.1518 - val_loss: 1.3563 - val_categorical_accuracy: 0.1739 - lr: 0.0100\n",
      "Epoch 40/500\n",
      "4/4 [==============================] - 1s 194ms/step - loss: 1.4944 - categorical_accuracy: 0.0804 - val_loss: 1.5478 - val_categorical_accuracy: 0.4348 - lr: 0.0100\n",
      "Epoch 41/500\n",
      "4/4 [==============================] - 1s 201ms/step - loss: 1.5354 - categorical_accuracy: 0.2679 - val_loss: 1.5494 - val_categorical_accuracy: 0.0870 - lr: 0.0100\n",
      "Epoch 42/500\n",
      "4/4 [==============================] - 1s 176ms/step - loss: 1.4352 - categorical_accuracy: 0.1607 - val_loss: 1.3242 - val_categorical_accuracy: 0.2174 - lr: 0.0100\n",
      "Epoch 43/500\n",
      "4/4 [==============================] - 1s 192ms/step - loss: 1.3902 - categorical_accuracy: 0.2321 - val_loss: 1.6021 - val_categorical_accuracy: 0.2174 - lr: 0.0100\n",
      "Epoch 44/500\n",
      "4/4 [==============================] - 1s 194ms/step - loss: 1.4151 - categorical_accuracy: 0.3036 - val_loss: 1.3651 - val_categorical_accuracy: 0.3043 - lr: 0.0100\n",
      "Epoch 45/500\n",
      "4/4 [==============================] - 1s 159ms/step - loss: 1.5175 - categorical_accuracy: 0.2500 - val_loss: 1.7664 - val_categorical_accuracy: 0.2174 - lr: 0.0100\n",
      "Epoch 46/500\n",
      "4/4 [==============================] - 1s 140ms/step - loss: 1.5940 - categorical_accuracy: 0.2054 - val_loss: 1.5140 - val_categorical_accuracy: 0.0870 - lr: 0.0100\n",
      "Epoch 47/500\n",
      "4/4 [==============================] - 1s 138ms/step - loss: 1.5868 - categorical_accuracy: 0.1518 - val_loss: 1.7882 - val_categorical_accuracy: 0.4348 - lr: 0.0100\n",
      "Epoch 48/500\n",
      "4/4 [==============================] - 1s 137ms/step - loss: 1.8702 - categorical_accuracy: 0.3214 - val_loss: 1.4322 - val_categorical_accuracy: 0.2609 - lr: 0.0020\n",
      "Epoch 49/500\n",
      "4/4 [==============================] - 1s 134ms/step - loss: 1.3660 - categorical_accuracy: 0.2143 - val_loss: 1.6275 - val_categorical_accuracy: 0.0870 - lr: 0.0020\n",
      "Epoch 50/500\n",
      "4/4 [==============================] - 1s 140ms/step - loss: 1.5318 - categorical_accuracy: 0.1875 - val_loss: 1.3213 - val_categorical_accuracy: 0.3043 - lr: 0.0020\n",
      "Epoch 51/500\n",
      "4/4 [==============================] - 1s 145ms/step - loss: 1.3805 - categorical_accuracy: 0.2679 - val_loss: 1.3939 - val_categorical_accuracy: 0.3913 - lr: 0.0020\n",
      "Epoch 52/500\n",
      "4/4 [==============================] - 1s 139ms/step - loss: 1.3898 - categorical_accuracy: 0.3482 - val_loss: 1.4661 - val_categorical_accuracy: 0.1739 - lr: 0.0020\n",
      "Epoch 53/500\n",
      "4/4 [==============================] - 1s 132ms/step - loss: 1.3679 - categorical_accuracy: 0.1875 - val_loss: 1.3449 - val_categorical_accuracy: 0.0870 - lr: 0.0020\n",
      "Epoch 54/500\n",
      "4/4 [==============================] - 1s 138ms/step - loss: 1.3260 - categorical_accuracy: 0.1607 - val_loss: 1.2869 - val_categorical_accuracy: 0.2174 - lr: 0.0020\n",
      "Epoch 55/500\n",
      "4/4 [==============================] - 1s 135ms/step - loss: 1.3457 - categorical_accuracy: 0.2232 - val_loss: 1.2965 - val_categorical_accuracy: 0.2609 - lr: 0.0020\n",
      "Epoch 56/500\n",
      "4/4 [==============================] - 1s 132ms/step - loss: 1.3223 - categorical_accuracy: 0.2321 - val_loss: 1.3861 - val_categorical_accuracy: 0.1304 - lr: 0.0020\n",
      "Epoch 57/500\n",
      "4/4 [==============================] - 1s 135ms/step - loss: 1.3246 - categorical_accuracy: 0.2321 - val_loss: 1.3240 - val_categorical_accuracy: 0.1304 - lr: 0.0020\n",
      "Epoch 58/500\n",
      "4/4 [==============================] - 1s 127ms/step - loss: 1.3089 - categorical_accuracy: 0.1161 - val_loss: 1.3134 - val_categorical_accuracy: 0.1739 - lr: 0.0020\n",
      "Epoch 59/500\n",
      "4/4 [==============================] - 0s 127ms/step - loss: 1.3271 - categorical_accuracy: 0.0893 - val_loss: 1.3070 - val_categorical_accuracy: 0.1739 - lr: 0.0020\n",
      "Epoch 60/500\n",
      "4/4 [==============================] - 1s 141ms/step - loss: 1.3028 - categorical_accuracy: 0.1964 - val_loss: 1.3152 - val_categorical_accuracy: 0.1739 - lr: 4.0000e-04\n",
      "Epoch 61/500\n",
      "4/4 [==============================] - 1s 135ms/step - loss: 1.3034 - categorical_accuracy: 0.2054 - val_loss: 1.3144 - val_categorical_accuracy: 0.1739 - lr: 4.0000e-04\n",
      "Epoch 62/500\n",
      "4/4 [==============================] - 1s 138ms/step - loss: 1.3027 - categorical_accuracy: 0.1875 - val_loss: 1.3246 - val_categorical_accuracy: 0.1304 - lr: 4.0000e-04\n",
      "Epoch 63/500\n",
      "4/4 [==============================] - 0s 127ms/step - loss: 1.3049 - categorical_accuracy: 0.1161 - val_loss: 1.3371 - val_categorical_accuracy: 0.0435 - lr: 4.0000e-04\n",
      "Epoch 64/500\n",
      "4/4 [==============================] - 1s 154ms/step - loss: 1.3059 - categorical_accuracy: 0.1071 - val_loss: 1.3238 - val_categorical_accuracy: 0.0870 - lr: 4.0000e-04\n"
     ]
    },
    {
     "data": {
      "text/plain": [
       "<keras.callbacks.History at 0x167178c5930>"
      ]
     },
     "execution_count": 36,
     "metadata": {},
     "output_type": "execute_result"
    }
   ],
   "source": [
    "lstm.compile(optimizer=opt, loss='categorical_crossentropy', metrics=['categorical_accuracy'])\n",
    "lstm.fit(X_train, y_train, batch_size=batch_size, epochs=max_epochs, validation_data=(X_val, y_val), callbacks=callbacks)"
   ]
  },
  {
   "cell_type": "code",
   "execution_count": 37,
   "id": "5ebdf8f0",
   "metadata": {},
   "outputs": [],
   "source": [
    "# Set up Tensorboard logging and callbacks. \n",
    "NAME       =f\"ExerciseRecognition-AttnLSTM-{int(time.time())}\"\n",
    "log_dir = os.path.join(os.getcwd(), 'logs', NAME,'')\n",
    "tb_callback = TensorBoard(log_dir=log_dir)\n",
    "\n",
    "\n",
    "callbacks = [tb_callback, es_callback, lr_callback, chkpt_callback]"
   ]
  },
  {
   "cell_type": "code",
   "execution_count": 38,
   "id": "b321aeb3",
   "metadata": {},
   "outputs": [],
   "source": [
    "def attention_block(inputs, time_steps):\n",
    "    \"\"\"\n",
    "    Attention layer for deep neural network\n",
    "    \n",
    "    \"\"\"\n",
    "    # Attention weights\n",
    "    a = Permute((2, 1))(inputs)\n",
    "    a = Dense(time_steps, activation='softmax')(a)\n",
    "    \n",
    "    # Attention vector\n",
    "    a_probs = Permute((2, 1), name='attention_vec')(a)\n",
    "    \n",
    "    # Luong's multiplicative score\n",
    "    output_attention_mul = multiply([inputs, a_probs], name='attention_mul') \n",
    "    \n",
    "    return output_attention_mul"
   ]
  },
  {
   "cell_type": "code",
   "execution_count": 39,
   "id": "a32d2851",
   "metadata": {},
   "outputs": [
    {
     "name": "stdout",
     "output_type": "stream",
     "text": [
      "Model: \"model\"\n",
      "__________________________________________________________________________________________________\n",
      " Layer (type)                   Output Shape         Param #     Connected to                     \n",
      "==================================================================================================\n",
      " input_1 (InputLayer)           [(None, 30, 132)]    0           []                               \n",
      "                                                                                                  \n",
      " bidirectional (Bidirectional)  (None, 30, 512)      796672      ['input_1[0][0]']                \n",
      "                                                                                                  \n",
      " permute (Permute)              (None, 512, 30)      0           ['bidirectional[0][0]']          \n",
      "                                                                                                  \n",
      " dense_3 (Dense)                (None, 512, 30)      930         ['permute[0][0]']                \n",
      "                                                                                                  \n",
      " attention_vec (Permute)        (None, 30, 512)      0           ['dense_3[0][0]']                \n",
      "                                                                                                  \n",
      " attention_mul (Multiply)       (None, 30, 512)      0           ['bidirectional[0][0]',          \n",
      "                                                                  'attention_vec[0][0]']          \n",
      "                                                                                                  \n",
      " flatten (Flatten)              (None, 15360)        0           ['attention_mul[0][0]']          \n",
      "                                                                                                  \n",
      " dense_4 (Dense)                (None, 512)          7864832     ['flatten[0][0]']                \n",
      "                                                                                                  \n",
      " dropout (Dropout)              (None, 512)          0           ['dense_4[0][0]']                \n",
      "                                                                                                  \n",
      " dense_5 (Dense)                (None, 3)            1539        ['dropout[0][0]']                \n",
      "                                                                                                  \n",
      "==================================================================================================\n",
      "Total params: 8,663,973\n",
      "Trainable params: 8,663,973\n",
      "Non-trainable params: 0\n",
      "__________________________________________________________________________________________________\n",
      "None\n"
     ]
    }
   ],
   "source": [
    "HIDDEN_UNITS = 256\n",
    "\n",
    "# Input\n",
    "inputs = Input(shape=(sequence_length, num_input_values))\n",
    "\n",
    "# Bi-LSTM\n",
    "lstm_out = Bidirectional(LSTM(HIDDEN_UNITS, return_sequences=True))(inputs)\n",
    "\n",
    "# Attention\n",
    "attention_mul = attention_block(lstm_out, sequence_length)\n",
    "attention_mul = Flatten()(attention_mul)\n",
    "\n",
    "# Fully Connected Layer\n",
    "x = Dense(2*HIDDEN_UNITS, activation='relu')(attention_mul)\n",
    "x = Dropout(0.5)(x)\n",
    "\n",
    "# Output\n",
    "x = Dense(actions.shape[0], activation='softmax')(x)\n",
    "\n",
    "# Bring it all together\n",
    "AttnLSTM = Model(inputs=[inputs], outputs=x)\n",
    "print(AttnLSTM.summary())"
   ]
  },
  {
   "cell_type": "code",
   "execution_count": 40,
   "id": "876af40c",
   "metadata": {},
   "outputs": [
    {
     "name": "stdout",
     "output_type": "stream",
     "text": [
      "Epoch 1/500\n",
      "4/4 [==============================] - 6s 496ms/step - loss: 1.0937 - categorical_accuracy: 0.3125 - val_loss: 1.0593 - val_categorical_accuracy: 1.0000 - lr: 8.0000e-05\n",
      "Epoch 2/500\n",
      "4/4 [==============================] - 0s 125ms/step - loss: 1.0031 - categorical_accuracy: 0.7054 - val_loss: 0.9557 - val_categorical_accuracy: 0.9130 - lr: 8.0000e-05\n",
      "Epoch 3/500\n",
      "4/4 [==============================] - 1s 138ms/step - loss: 0.8295 - categorical_accuracy: 0.9554 - val_loss: 0.7849 - val_categorical_accuracy: 0.9565 - lr: 8.0000e-05\n",
      "Epoch 4/500\n",
      "4/4 [==============================] - 1s 168ms/step - loss: 0.6267 - categorical_accuracy: 0.9018 - val_loss: 0.6139 - val_categorical_accuracy: 0.9565 - lr: 8.0000e-05\n",
      "Epoch 5/500\n",
      "4/4 [==============================] - 1s 181ms/step - loss: 0.4573 - categorical_accuracy: 0.9196 - val_loss: 0.4444 - val_categorical_accuracy: 0.9565 - lr: 8.0000e-05\n",
      "Epoch 6/500\n",
      "4/4 [==============================] - 1s 170ms/step - loss: 0.3283 - categorical_accuracy: 0.9196 - val_loss: 0.3747 - val_categorical_accuracy: 0.9565 - lr: 8.0000e-05\n",
      "Epoch 7/500\n",
      "4/4 [==============================] - 1s 160ms/step - loss: 0.2210 - categorical_accuracy: 0.9821 - val_loss: 0.2339 - val_categorical_accuracy: 0.9565 - lr: 8.0000e-05\n",
      "Epoch 8/500\n",
      "4/4 [==============================] - 1s 154ms/step - loss: 0.1401 - categorical_accuracy: 0.9821 - val_loss: 0.1905 - val_categorical_accuracy: 0.9565 - lr: 8.0000e-05\n",
      "Epoch 9/500\n",
      "4/4 [==============================] - 1s 170ms/step - loss: 0.1226 - categorical_accuracy: 0.9821 - val_loss: 0.1865 - val_categorical_accuracy: 0.9565 - lr: 8.0000e-05\n",
      "Epoch 10/500\n",
      "4/4 [==============================] - 1s 163ms/step - loss: 0.0976 - categorical_accuracy: 0.9821 - val_loss: 0.2013 - val_categorical_accuracy: 0.9565 - lr: 8.0000e-05\n",
      "Epoch 11/500\n",
      "4/4 [==============================] - 1s 180ms/step - loss: 0.0881 - categorical_accuracy: 0.9821 - val_loss: 0.2217 - val_categorical_accuracy: 0.9565 - lr: 8.0000e-05\n",
      "Epoch 12/500\n",
      "4/4 [==============================] - 1s 166ms/step - loss: 0.0773 - categorical_accuracy: 0.9821 - val_loss: 0.3234 - val_categorical_accuracy: 0.9565 - lr: 8.0000e-05\n",
      "Epoch 13/500\n",
      "4/4 [==============================] - 1s 160ms/step - loss: 0.1085 - categorical_accuracy: 0.9821 - val_loss: 0.2362 - val_categorical_accuracy: 0.9565 - lr: 8.0000e-05\n",
      "Epoch 14/500\n",
      "4/4 [==============================] - 1s 161ms/step - loss: 0.0748 - categorical_accuracy: 0.9821 - val_loss: 0.2475 - val_categorical_accuracy: 0.9565 - lr: 8.0000e-05\n",
      "Epoch 15/500\n",
      "4/4 [==============================] - 1s 167ms/step - loss: 0.0491 - categorical_accuracy: 0.9821 - val_loss: 0.2468 - val_categorical_accuracy: 0.9565 - lr: 1.6000e-05\n",
      "Epoch 16/500\n",
      "4/4 [==============================] - 1s 167ms/step - loss: 0.0547 - categorical_accuracy: 0.9821 - val_loss: 0.2476 - val_categorical_accuracy: 0.9565 - lr: 1.6000e-05\n",
      "Epoch 17/500\n",
      "4/4 [==============================] - 1s 166ms/step - loss: 0.0534 - categorical_accuracy: 0.9821 - val_loss: 0.2476 - val_categorical_accuracy: 0.9565 - lr: 1.6000e-05\n",
      "Epoch 18/500\n",
      "4/4 [==============================] - 1s 168ms/step - loss: 0.0329 - categorical_accuracy: 0.9911 - val_loss: 0.2485 - val_categorical_accuracy: 0.9565 - lr: 1.6000e-05\n",
      "Epoch 19/500\n",
      "4/4 [==============================] - 1s 166ms/step - loss: 0.0342 - categorical_accuracy: 0.9821 - val_loss: 0.2501 - val_categorical_accuracy: 0.9565 - lr: 1.6000e-05\n"
     ]
    },
    {
     "data": {
      "text/plain": [
       "<keras.callbacks.History at 0x167171065f0>"
      ]
     },
     "execution_count": 40,
     "metadata": {},
     "output_type": "execute_result"
    }
   ],
   "source": [
    "AttnLSTM.compile(optimizer=opt, loss='categorical_crossentropy', metrics=['categorical_accuracy'])\n",
    "AttnLSTM.fit(X_train, y_train, batch_size=batch_size, epochs=max_epochs, validation_data=(X_val, y_val), callbacks=callbacks)"
   ]
  },
  {
   "cell_type": "code",
   "execution_count": 41,
   "id": "b211b07b",
   "metadata": {},
   "outputs": [],
   "source": [
    "# Model map\n",
    "models = {\n",
    "    'LSTM': lstm, \n",
    "    'LSTM_Attention_128HUs': AttnLSTM, \n",
    "}"
   ]
  },
  {
   "cell_type": "code",
   "execution_count": 42,
   "id": "9d865a3b",
   "metadata": {},
   "outputs": [],
   "source": [
    "for model_name, model in models.items():\n",
    "    save_dir = os.path.join(os.getcwd(), f\"{model_name}.h5\")\n",
    "    model.save(save_dir)"
   ]
  },
  {
   "cell_type": "code",
   "execution_count": 43,
   "id": "81769410",
   "metadata": {},
   "outputs": [],
   "source": [
    "# Run model rebuild before doing this\n",
    "for model_name, model in models.items():\n",
    "    load_dir = os.path.join(os.getcwd(), f\"{model_name}.h5\")\n",
    "    model.load_weights(load_dir)"
   ]
  },
  {
   "cell_type": "code",
   "execution_count": 44,
   "id": "2cb0719b",
   "metadata": {},
   "outputs": [],
   "source": [
    "for model in models.values():\n",
    "    res = model.predict(X_test, verbose=0)   "
   ]
  },
  {
   "cell_type": "code",
   "execution_count": 45,
   "id": "da016288",
   "metadata": {},
   "outputs": [],
   "source": [
    "eval_results = {}\n",
    "eval_results['confusion matrix'] = None\n",
    "eval_results['accuracy'] = None\n",
    "eval_results['precision'] = None\n",
    "eval_results['recall'] = None\n",
    "eval_results['f1 score'] = None\n",
    "\n",
    "confusion_matrices = {}\n",
    "classification_accuracies = {}   \n",
    "precisions = {}\n",
    "recalls = {}\n",
    "f1_scores = {} "
   ]
  },
  {
   "cell_type": "code",
   "execution_count": 46,
   "id": "187b859b",
   "metadata": {},
   "outputs": [
    {
     "name": "stdout",
     "output_type": "stream",
     "text": [
      "LSTM confusion matrix: \r\n",
      "[[[7 3]\n",
      "  [5 0]]\n",
      "\n",
      " [[8 1]\n",
      "  [5 1]]\n",
      "\n",
      " [[2 9]\n",
      "  [3 1]]]\n",
      "LSTM_Attention_128HUs confusion matrix: \r\n",
      "[[[10  0]\n",
      "  [ 0  5]]\n",
      "\n",
      " [[ 9  0]\n",
      "  [ 0  6]]\n",
      "\n",
      " [[11  0]\n",
      "  [ 0  4]]]\n"
     ]
    }
   ],
   "source": [
    "for model_name, model in models.items():\n",
    "    yhat = model.predict(X_test, verbose=0)\n",
    "    \n",
    "    # Get list of classification predictions\n",
    "    ytrue = np.argmax(y_test, axis=1).tolist()\n",
    "    yhat = np.argmax(yhat, axis=1).tolist()\n",
    "    \n",
    "    # Confusion matrix\n",
    "    confusion_matrices[model_name] = multilabel_confusion_matrix(ytrue, yhat)\n",
    "    print(f\"{model_name} confusion matrix: {os.linesep}{confusion_matrices[model_name]}\")\n",
    "\n",
    "# Collect results \n",
    "eval_results['confusion matrix'] = confusion_matrices"
   ]
  },
  {
   "cell_type": "code",
   "execution_count": 47,
   "id": "71f04e22",
   "metadata": {},
   "outputs": [
    {
     "name": "stdout",
     "output_type": "stream",
     "text": [
      "LSTM classification accuracy = 13.333%\n",
      "LSTM_Attention_128HUs classification accuracy = 100.0%\n"
     ]
    }
   ],
   "source": [
    "for model_name, model in models.items():\n",
    "    yhat = model.predict(X_test, verbose=0)\n",
    "    \n",
    "    # Get list of classification predictions\n",
    "    ytrue = np.argmax(y_test, axis=1).tolist()\n",
    "    yhat = np.argmax(yhat, axis=1).tolist()\n",
    "    \n",
    "    # Model accuracy\n",
    "    classification_accuracies[model_name] = accuracy_score(ytrue, yhat)    \n",
    "    print(f\"{model_name} classification accuracy = {round(classification_accuracies[model_name]*100,3)}%\")\n",
    "\n",
    "# Collect results \n",
    "eval_results['accuracy'] = classification_accuracies"
   ]
  },
  {
   "cell_type": "code",
   "execution_count": 48,
   "id": "49b0ea6d",
   "metadata": {},
   "outputs": [
    {
     "name": "stdout",
     "output_type": "stream",
     "text": [
      "LSTM weighted average precision = 0.227\n",
      "LSTM weighted average recall = 0.133\n",
      "LSTM weighted average f1-score = 0.138\n",
      "\n",
      "LSTM_Attention_128HUs weighted average precision = 1.0\n",
      "LSTM_Attention_128HUs weighted average recall = 1.0\n",
      "LSTM_Attention_128HUs weighted average f1-score = 1.0\n",
      "\n"
     ]
    }
   ],
   "source": [
    "for model_name, model in models.items():\n",
    "    yhat = model.predict(X_test, verbose=0)\n",
    "    \n",
    "    # Get list of classification predictions\n",
    "    ytrue = np.argmax(y_test, axis=1).tolist()\n",
    "    yhat = np.argmax(yhat, axis=1).tolist()\n",
    "    \n",
    "    # Precision, recall, and f1 score\n",
    "    report = classification_report(ytrue, yhat, target_names=actions, output_dict=True)\n",
    "    \n",
    "    precisions[model_name] = report['weighted avg']['precision']\n",
    "    recalls[model_name] = report['weighted avg']['recall']\n",
    "    f1_scores[model_name] = report['weighted avg']['f1-score'] \n",
    "   \n",
    "    print(f\"{model_name} weighted average precision = {round(precisions[model_name],3)}\")\n",
    "    print(f\"{model_name} weighted average recall = {round(recalls[model_name],3)}\")\n",
    "    print(f\"{model_name} weighted average f1-score = {round(f1_scores[model_name],3)}\\n\")\n",
    "\n",
    "# Collect results \n",
    "eval_results['precision'] = precisions\n",
    "eval_results['recall'] = recalls\n",
    "eval_results['f1 score'] = f1_scores"
   ]
  },
  {
   "cell_type": "code",
   "execution_count": 49,
   "id": "42e5a788",
   "metadata": {},
   "outputs": [],
   "source": [
    "model = AttnLSTM\n",
    "model_name = 'AttnLSTM'"
   ]
  },
  {
   "cell_type": "code",
   "execution_count": 50,
   "id": "621af785",
   "metadata": {},
   "outputs": [],
   "source": [
    "def calculate_angle(a,b,c):\n",
    "    \"\"\"\n",
    "    Computes 3D joint angle inferred by 3 keypoints and their relative positions to one another\n",
    "    \n",
    "    \"\"\"\n",
    "    a = np.array(a) # First\n",
    "    b = np.array(b) # Mid\n",
    "    c = np.array(c) # End\n",
    "    \n",
    "    radians = np.arctan2(c[1]-b[1], c[0]-b[0]) - np.arctan2(a[1]-b[1], a[0]-b[0])\n",
    "    angle = np.abs(radians*180.0/np.pi)\n",
    "    \n",
    "    if angle >180.0:\n",
    "        angle = 360-angle\n",
    "        \n",
    "    return angle "
   ]
  },
  {
   "cell_type": "code",
   "execution_count": 51,
   "id": "38839f38",
   "metadata": {},
   "outputs": [],
   "source": [
    "def get_coordinates(landmarks, mp_pose, side, joint):\n",
    "    \"\"\"\n",
    "    Retrieves x and y coordinates of a particular keypoint from the pose estimation model\n",
    "         \n",
    "     Args:\n",
    "         landmarks: processed keypoints from the pose estimation model\n",
    "         mp_pose: Mediapipe pose estimation model\n",
    "         side: 'left' or 'right'. Denotes the side of the body of the landmark of interest.\n",
    "         joint: 'shoulder', 'elbow', 'wrist', 'hip', 'knee', or 'ankle'. Denotes which body joint is associated with the landmark of interest.\n",
    "    \n",
    "    \"\"\"\n",
    "    coord = getattr(mp_pose.PoseLandmark,side.upper()+\"_\"+joint.upper())\n",
    "    x_coord_val = landmarks[coord.value].x\n",
    "    y_coord_val = landmarks[coord.value].y\n",
    "    return [x_coord_val, y_coord_val]            "
   ]
  },
  {
   "cell_type": "code",
   "execution_count": 52,
   "id": "c5eeca4d",
   "metadata": {},
   "outputs": [],
   "source": [
    "def viz_joint_angle(image, angle, joint):\n",
    "    \"\"\"\n",
    "    Displays the joint angle value near the joint within the image frame\n",
    "    \n",
    "    \"\"\"\n",
    "    cv2.putText(image, str(int(angle)), \n",
    "                   tuple(np.multiply(joint, [640, 480]).astype(int)), \n",
    "                   cv2.FONT_HERSHEY_SIMPLEX, 0.5, (255, 255, 255), 2, cv2.LINE_AA\n",
    "                        )\n",
    "    return"
   ]
  },
  {
   "cell_type": "code",
   "execution_count": 53,
   "id": "c1af746e",
   "metadata": {},
   "outputs": [],
   "source": [
    "def count_reps(image, current_action, landmarks, mp_pose):\n",
    "    \"\"\"\n",
    "    Counts repetitions of each exercise. Global count and stage (i.e., state) variables are updated within this function.\n",
    "    \n",
    "    \"\"\"\n",
    "\n",
    "    global curl_counter, press_counter, squat_counter, curl_stage, press_stage, squat_stage\n",
    "    \n",
    "    if current_action == 'curl':\n",
    "        # Get coords\n",
    "        shoulder = get_coordinates(landmarks, mp_pose, 'left', 'shoulder')\n",
    "        elbow = get_coordinates(landmarks, mp_pose, 'left', 'elbow')\n",
    "        wrist = get_coordinates(landmarks, mp_pose, 'left', 'wrist')\n",
    "        \n",
    "        # calculate elbow angle\n",
    "        angle = calculate_angle(shoulder, elbow, wrist)\n",
    "        \n",
    "        # curl counter logic\n",
    "        if angle < 30:\n",
    "            curl_stage = \"up\" \n",
    "        if angle > 140 and curl_stage =='up':\n",
    "            curl_stage=\"down\"  \n",
    "            curl_counter +=1\n",
    "        press_stage = None\n",
    "        squat_stage = None\n",
    "            \n",
    "        # Viz joint angle\n",
    "        viz_joint_angle(image, angle, elbow)\n",
    "        \n",
    "    elif current_action == 'press':\n",
    "        \n",
    "        # Get coords\n",
    "        shoulder = get_coordinates(landmarks, mp_pose, 'left', 'shoulder')\n",
    "        elbow = get_coordinates(landmarks, mp_pose, 'left', 'elbow')\n",
    "        wrist = get_coordinates(landmarks, mp_pose, 'left', 'wrist')\n",
    "\n",
    "        # Calculate elbow angle\n",
    "        elbow_angle = calculate_angle(shoulder, elbow, wrist)\n",
    "        \n",
    "        # Compute distances between joints\n",
    "        shoulder2elbow_dist = abs(math.dist(shoulder,elbow))\n",
    "        shoulder2wrist_dist = abs(math.dist(shoulder,wrist))\n",
    "        \n",
    "        # Press counter logic\n",
    "        if (elbow_angle > 130) and (shoulder2elbow_dist < shoulder2wrist_dist):\n",
    "            press_stage = \"up\"\n",
    "        if (elbow_angle < 50) and (shoulder2elbow_dist > shoulder2wrist_dist) and (press_stage =='up'):\n",
    "            press_stage='down'\n",
    "            press_counter += 1\n",
    "        curl_stage = None\n",
    "        squat_stage = None\n",
    "            \n",
    "        # Viz joint angle\n",
    "        viz_joint_angle(image, elbow_angle, elbow)\n",
    "        \n",
    "    elif current_action == 'squat':\n",
    "        # Get coords\n",
    "        # left side\n",
    "        left_shoulder = get_coordinates(landmarks, mp_pose, 'left', 'shoulder')\n",
    "        left_hip = get_coordinates(landmarks, mp_pose, 'left', 'hip')\n",
    "        left_knee = get_coordinates(landmarks, mp_pose, 'left', 'knee')\n",
    "        left_ankle = get_coordinates(landmarks, mp_pose, 'left', 'ankle')\n",
    "        # right side\n",
    "        right_shoulder = get_coordinates(landmarks, mp_pose, 'right', 'shoulder')\n",
    "        right_hip = get_coordinates(landmarks, mp_pose, 'right', 'hip')\n",
    "        right_knee = get_coordinates(landmarks, mp_pose, 'right', 'knee')\n",
    "        right_ankle = get_coordinates(landmarks, mp_pose, 'right', 'ankle')\n",
    "        \n",
    "        # Calculate knee angles\n",
    "        left_knee_angle = calculate_angle(left_hip, left_knee, left_ankle)\n",
    "        right_knee_angle = calculate_angle(right_hip, right_knee, right_ankle)\n",
    "        \n",
    "        # Calculate hip angles\n",
    "        left_hip_angle = calculate_angle(left_shoulder, left_hip, left_knee)\n",
    "        right_hip_angle = calculate_angle(right_shoulder, right_hip, right_knee)\n",
    "        \n",
    "        # Squat counter logic\n",
    "        thr = 165\n",
    "        if (left_knee_angle < thr) and (right_knee_angle < thr) and (left_hip_angle < thr) and (right_hip_angle < thr):\n",
    "            squat_stage = \"down\"\n",
    "        if (left_knee_angle > thr) and (right_knee_angle > thr) and (left_hip_angle > thr) and (right_hip_angle > thr) and (squat_stage =='down'):\n",
    "            squat_stage='up'\n",
    "            squat_counter += 1\n",
    "        curl_stage = None\n",
    "        press_stage = None\n",
    "            \n",
    "        # Viz joint angles\n",
    "        viz_joint_angle(image, left_knee_angle, left_knee)\n",
    "        viz_joint_angle(image, left_hip_angle, left_hip)\n",
    "        \n",
    "    else:\n",
    "        pass"
   ]
  },
  {
   "cell_type": "code",
   "execution_count": 1,
   "id": "9fc50a5d",
   "metadata": {},
   "outputs": [],
   "source": [
    "import cv2\n",
    "#This will store our video as 2D images in folder C:\\Users\\user_directory_name.\n",
    "# Opens the Video file\n",
    "cap= cv2.VideoCapture(r\"C:\\Users\\tomar\\AttnLSTM_real_time_test.avi\");\n",
    "i=0\n",
    "while(cap.isOpened()):\n",
    "    ret, frame = cap.read()\n",
    "    if ret == False:\n",
    "        break\n",
    "    cv2.imwrite('exercise'+str(i)+'.jpg',frame)\n",
    "    i+=1\n",
    " \n",
    "cap.release()\n",
    "cv2.destroyAllWindows()"
   ]
  },
  {
   "cell_type": "code",
   "execution_count": 58,
   "id": "10c5efac",
   "metadata": {},
   "outputs": [],
   "source": [
    "def prob_viz(res, actions, input_frame, colors):\n",
    "    \"\"\"\n",
    "    This function displays the model prediction probability distribution over the set of exercise classes\n",
    "    as a horizontal bar graph\n",
    "    \n",
    "    \"\"\"\n",
    "    output_frame = input_frame.copy()\n",
    "    for num, prob in enumerate(res):        \n",
    "        cv2.rectangle(output_frame, (0,60+num*40), (int(prob*100), 90+num*40), colors[num], -1)\n",
    "        cv2.putText(output_frame, actions[num], (0, 85+num*40), cv2.FONT_HERSHEY_SIMPLEX, 1, (255,255,255), 2, cv2.LINE_AA)\n",
    "        \n",
    "    return output_frame"
   ]
  },
  {
   "cell_type": "code",
   "execution_count": 65,
   "id": "7b6b9fa2",
   "metadata": {},
   "outputs": [],
   "source": [
    "# 1. New detection variables\n",
    "sequence = []\n",
    "predictions = []\n",
    "res = []\n",
    "threshold = 0.5 # minimum confidence to classify as an action/exercise\n",
    "current_action = ''\n",
    "\n",
    "# Rep counter logic variables\n",
    "curl_counter = 0\n",
    "press_counter = 0\n",
    "squat_counter = 0\n",
    "curl_stage = None\n",
    "press_stage = None\n",
    "squat_stage = None\n",
    "\n",
    "# Camera object\n",
    "cap = cv2.VideoCapture(0)\n",
    "\n",
    "# Video writer object that saves a video of the real time test\n",
    "fourcc = cv2.VideoWriter_fourcc('M','J','P','G') # video compression format\n",
    "HEIGHT = int(cap.get(cv2.CAP_PROP_FRAME_HEIGHT)) # webcam video frame height\n",
    "WIDTH = int(cap.get(cv2.CAP_PROP_FRAME_WIDTH)) # webcam video frame width\n",
    "FPS = int(cap.get(cv2.CAP_PROP_FPS)) # webcam video fram rate \n",
    "\n",
    "video_name = os.path.join(os.getcwd(),f\"{model_name}_real_time_test.avi\")\n",
    "out = cv2.VideoWriter(video_name, cv2.VideoWriter_fourcc(*\"MJPG\"), FPS, (WIDTH,HEIGHT))\n",
    "\n",
    "# Set mediapipe model \n",
    "with mp_pose.Pose(min_detection_confidence=0.5, min_tracking_confidence=0.5) as pose:\n",
    "    while cap.isOpened():\n",
    "\n",
    "        # Read feed\n",
    "        ret, frame = cap.read()\n",
    "\n",
    "        # Make detection\n",
    "        image, results = mediapipe_detection(frame, pose)\n",
    "        \n",
    "        # Draw landmarks\n",
    "        draw_landmarks(image, results)\n",
    "        \n",
    "        # 2. Prediction logic\n",
    "        keypoints = extract_keypoints(results)        \n",
    "        sequence.append(keypoints)      \n",
    "        sequence = sequence[-sequence_length:]\n",
    "              \n",
    "        if len(sequence) == sequence_length:\n",
    "            res = model.predict(np.expand_dims(sequence, axis=0), verbose=0)[0]           \n",
    "            predictions.append(np.argmax(res))\n",
    "            current_action = actions[np.argmax(res)]\n",
    "            confidence = np.max(res)\n",
    "            \n",
    "        #3. Viz logic\n",
    "            # Erase current action variable if no probability is above threshold\n",
    "            if confidence < threshold:\n",
    "                current_action = ''\n",
    "\n",
    "            # Viz probabilities\n",
    "            image = prob_viz(res, actions, image, colors)\n",
    "            \n",
    "            # Count reps\n",
    "            try:\n",
    "                landmarks = results.pose_landmarks.landmark\n",
    "                count_reps(\n",
    "                    image, current_action, landmarks, mp_pose)\n",
    "            except:\n",
    "                pass\n",
    "\n",
    "            # Display graphical information\n",
    "            cv2.rectangle(image, (0,0), (640, 40), colors[np.argmax(res)], -1)\n",
    "            cv2.putText(image, 'curl ' + str(curl_counter), (3,30), \n",
    "                           cv2.FONT_HERSHEY_SIMPLEX, 1, (255, 255, 255), 2, cv2.LINE_AA)\n",
    "            cv2.putText(image, 'press ' + str(press_counter), (240,30), \n",
    "                           cv2.FONT_HERSHEY_SIMPLEX, 1, (255, 255, 255), 2, cv2.LINE_AA)\n",
    "            cv2.putText(image, 'squat ' + str(squat_counter), (490,30), \n",
    "                           cv2.FONT_HERSHEY_SIMPLEX, 1, (255, 255, 255), 2, cv2.LINE_AA)\n",
    "         \n",
    "        # Show to screen\n",
    "        cv2.imshow('OpenCV Feed', image)\n",
    "        \n",
    "        # Write to video file\n",
    "        if ret == True:\n",
    "            out.write(image)\n",
    "\n",
    "        # Break gracefully\n",
    "        if cv2.waitKey(10) & 0xFF == ord('q'):\n",
    "            break\n",
    "    cap.release()\n",
    "    out.release()\n",
    "    cv2.destroyAllWindows()"
   ]
  },
  {
   "cell_type": "code",
   "execution_count": null,
   "id": "169e0197",
   "metadata": {},
   "outputs": [],
   "source": [
    "cap.release()\n",
    "out.release()\n",
    "cv2.destroyAllWindows()"
   ]
  }
 ],
 "metadata": {
  "kernelspec": {
   "display_name": "Python 3 (ipykernel)",
   "language": "python",
   "name": "python3"
  },
  "language_info": {
   "codemirror_mode": {
    "name": "ipython",
    "version": 3
   },
   "file_extension": ".py",
   "mimetype": "text/x-python",
   "name": "python",
   "nbconvert_exporter": "python",
   "pygments_lexer": "ipython3",
   "version": "3.10.6"
  }
 },
 "nbformat": 4,
 "nbformat_minor": 5
}
